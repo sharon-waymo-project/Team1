{
 "cells": [
  {
   "cell_type": "code",
   "execution_count": 1,
   "metadata": {},
   "outputs": [],
   "source": [
    "import os \n",
    "import shutil\n",
    "import numpy as np\n",
    "import glob\n",
    "import cv2\n",
    "import tensorflow as tf\n",
    "\n",
    "from waymo_open_dataset import dataset_pb2 as open_dataset\n",
    "from tqdm.notebook import tqdm\n",
    "\n",
    "tf.enable_eager_execution()"
   ]
  },
  {
   "cell_type": "code",
   "execution_count": 2,
   "metadata": {},
   "outputs": [],
   "source": [
    "FRONT = 0\n",
    "def video_generation(folder, frames):\n",
    "    imgs = []\n",
    "\n",
    "    for frame in frames:\n",
    "        image = frame.images[FRONT]\n",
    "        img = tf.image.decode_jpeg(image.image)\n",
    "        imgs.append(img.numpy())\n",
    "    \n",
    "    img = imgs[0]\n",
    "    height, width, _ = img.shape\n",
    "    size = (width, height)\n",
    "    out_video = folder + 'video.mp4'\n",
    "    fps = 10\n",
    "    \n",
    "    out = cv2.VideoWriter(out_video, cv2.VideoWriter_fourcc(*'XVID'), fps, size)\n",
    "    \n",
    "    for img in imgs:\n",
    "        gbr = img[...,::-1].copy()\n",
    "        out.write(gbr)\n",
    "    out.release()\n",
    "\n"
   ]
  },
  {
   "cell_type": "code",
   "execution_count": null,
   "metadata": {
    "scrolled": false
   },
   "outputs": [
    {
     "data": {
      "application/vnd.jupyter.widget-view+json": {
       "model_id": "77b07fd576f04561835828eb89f9ca1e",
       "version_major": 2,
       "version_minor": 0
      },
      "text/plain": [
       "HBox(children=(IntProgress(value=0, max=798), HTML(value='')))"
      ]
     },
     "metadata": {},
     "output_type": "display_data"
    }
   ],
   "source": [
    "train_path = '/home/dataset/training/*/*.tfrecord'\n",
    "FRONT = 0\n",
    "train_prefix = '/home/dataset/videos/training/'\n",
    "\n",
    "train_tfs = glob.glob(train_path)\n",
    "\n",
    "for file in tqdm(train_tfs):\n",
    "    dataset = tf.data.TFRecordDataset(file, compression_type='')\n",
    "    \n",
    "    tar_name = file.split('/')[4]\n",
    "    tar_path = train_prefix + tar_name + '/'\n",
    "    \n",
    "    if not os.path.exists(tar_path):\n",
    "        os.mkdir(tar_path)\n",
    "        \n",
    "    seg_name = file.split('/')[5][:-9]\n",
    "    seg_path = tar_path + seg_name + '/'\n",
    "    \n",
    "    if os.path.exists(seg_path):\n",
    "        shutil.rmtree(seg_path)\n",
    "    os.mkdir(seg_path)\n",
    "    \n",
    "    frames = []\n",
    "    for idx, data in enumerate(dataset):\n",
    "        frame = open_dataset.Frame()\n",
    "        frame.ParseFromString(bytearray(data.numpy()))\n",
    "        frames.append(frame)\n",
    "    \n",
    "    video_generation(seg_path, frames)"
   ]
  },
  {
   "cell_type": "code",
   "execution_count": null,
   "metadata": {},
   "outputs": [],
   "source": [
    "test_path = '/home/dataset/validation/*/*.tfrecord'\n",
    "test_prefix = '/home/dataset/videos/validation/'\n",
    "\n",
    "test_tfs = glob.glob(test_path)\n",
    "\n",
    "for file in tqdm(test_tfs):\n",
    "    dataset = tf.data.TFRecordDataset(file, compression_type='')\n",
    "    \n",
    "    tar_name = file.split('/')[4]\n",
    "    tar_path = test_prefix + tar_name + '/'\n",
    "    \n",
    "    if not os.path.exists(tar_path):\n",
    "        os.mkdir(tar_path)\n",
    "        \n",
    "    seg_name = file.split('/')[5][:-9]\n",
    "    seg_path = tar_path + seg_name + '/'\n",
    "    \n",
    "    if os.path.exists(seg_path):\n",
    "        shutil.rmtree(seg_path)\n",
    "    os.mkdir(seg_path)\n",
    "    \n",
    "    frames = []\n",
    "    for idx, data in enumerate(dataset):\n",
    "        frame = open_dataset.Frame()\n",
    "        frame.ParseFromString(bytearray(data.numpy()))\n",
    "        frames.append(frame)\n",
    "    \n",
    "    video_generation(seg_path, frames)\n",
    "        "
   ]
  }
 ],
 "metadata": {
  "kernelspec": {
   "display_name": "Python 3",
   "language": "python",
   "name": "python3"
  },
  "language_info": {
   "codemirror_mode": {
    "name": "ipython",
    "version": 3
   },
   "file_extension": ".py",
   "mimetype": "text/x-python",
   "name": "python",
   "nbconvert_exporter": "python",
   "pygments_lexer": "ipython3",
   "version": "3.6.8"
  }
 },
 "nbformat": 4,
 "nbformat_minor": 2
}
