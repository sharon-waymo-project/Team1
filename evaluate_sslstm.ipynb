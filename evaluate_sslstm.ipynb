{
 "cells": [
  {
   "cell_type": "code",
   "execution_count": 1,
   "metadata": {},
   "outputs": [],
   "source": [
    "import pandas as pd\n",
    "import tensorflow as tf\n",
    "import numpy as np\n",
    "import matplotlib.pyplot as plt\n",
    "import glob\n",
    "import os\n",
    "import shutil\n",
    "from tqdm.notebook import tqdm"
   ]
  },
  {
   "cell_type": "code",
   "execution_count": 2,
   "metadata": {},
   "outputs": [
    {
     "name": "stdout",
     "output_type": "stream",
     "text": [
      "/home/zg2309/model/sslstm_epoch_1000_hidden_128_observe_10_predict_5.h5\n",
      "WARNING:tensorflow:From /home/zg2309/anaconda3/envs/waymo/lib/python3.6/site-packages/tensorflow_core/python/ops/init_ops.py:97: calling GlorotUniform.__init__ (from tensorflow.python.ops.init_ops) with dtype is deprecated and will be removed in a future version.\n",
      "Instructions for updating:\n",
      "Call initializer instance with the dtype argument instead of passing it to the constructor\n",
      "WARNING:tensorflow:From /home/zg2309/anaconda3/envs/waymo/lib/python3.6/site-packages/tensorflow_core/python/ops/init_ops.py:97: calling Orthogonal.__init__ (from tensorflow.python.ops.init_ops) with dtype is deprecated and will be removed in a future version.\n",
      "Instructions for updating:\n",
      "Call initializer instance with the dtype argument instead of passing it to the constructor\n",
      "WARNING:tensorflow:From /home/zg2309/anaconda3/envs/waymo/lib/python3.6/site-packages/tensorflow_core/python/ops/init_ops.py:97: calling Zeros.__init__ (from tensorflow.python.ops.init_ops) with dtype is deprecated and will be removed in a future version.\n",
      "Instructions for updating:\n",
      "Call initializer instance with the dtype argument instead of passing it to the constructor\n",
      "WARNING:tensorflow:From /home/zg2309/anaconda3/envs/waymo/lib/python3.6/site-packages/tensorflow_core/python/ops/resource_variable_ops.py:1630: calling BaseResourceVariable.__init__ (from tensorflow.python.ops.resource_variable_ops) with constraint is deprecated and will be removed in a future version.\n",
      "Instructions for updating:\n",
      "If using Keras pass *_constraint arguments to layers.\n",
      "WARNING:tensorflow:From /home/zg2309/anaconda3/envs/waymo/lib/python3.6/site-packages/tensorflow_core/python/ops/math_grad.py:1424: where (from tensorflow.python.ops.array_ops) is deprecated and will be removed in a future version.\n",
      "Instructions for updating:\n",
      "Use tf.where in 2.0, which has the same broadcast rule as np.where\n",
      "Model: \"sequential\"\n",
      "_________________________________________________________________\n",
      "Layer (type)                 Output Shape              Param #   \n",
      "=================================================================\n",
      "gru (GRU)                    (None, 128)               55296     \n",
      "_________________________________________________________________\n",
      "repeat_vector (RepeatVector) (None, 5, 128)            0         \n",
      "_________________________________________________________________\n",
      "gru_1 (GRU)                  (None, 5, 128)            98688     \n",
      "_________________________________________________________________\n",
      "time_distributed (TimeDistri (None, 5, 3)              387       \n",
      "_________________________________________________________________\n",
      "activation (Activation)      (None, 5, 3)              0         \n",
      "=================================================================\n",
      "Total params: 154,371\n",
      "Trainable params: 154,371\n",
      "Non-trainable params: 0\n",
      "_________________________________________________________________\n"
     ]
    }
   ],
   "source": [
    "from tensorflow.keras.models import load_model\n",
    "\n",
    "n_hidden = 128\n",
    "OBSERVE_LENGTH = 10\n",
    "PREDICT_LENGTH = 5\n",
    "epochs = 1000\n",
    "\n",
    "model_name = 'sslstm_epoch_{}_hidden_{}_observe_{}_predict_{}'.format(epochs, n_hidden, OBSERVE_LENGTH, PREDICT_LENGTH)\n",
    "model_path = '/home/zg2309/model/{}.h5'.format(model_name)\n",
    "print(model_path)\n",
    "# load model\n",
    "model = load_model(model_path)\n",
    "# summarize model.\n",
    "model.summary()"
   ]
  },
  {
   "cell_type": "code",
   "execution_count": 3,
   "metadata": {},
   "outputs": [
    {
     "data": {
      "image/png": "[encoded data removed]",
      "text/plain": [
       "<Figure size 432x288 with 1 Axes>"
      ]
     },
     "metadata": {
      "needs_background": "light"
     },
     "output_type": "display_data"
    }
   ],
   "source": [
    "import matplotlib.image as mpimg\n",
    "img = mpimg.imread('/home/zg2309/history/{}.png'.format(model_name))\n",
    "plt.imshow(img)\n",
    "plt.show()"
   ]
  },
  {
   "cell_type": "code",
   "execution_count": 11,
   "metadata": {},
   "outputs": [],
   "source": [
    "def visualize_trajectory(prediction, gt, folder):\n",
    "    \n",
    "    FPS = 10\n",
    "    DT = 1.0 / FPS\n",
    "    times = [t * DT for t in range(0, len(gt))]\n",
    "    \n",
    "    gtx = gt[:,0]\n",
    "    predx = prediction[:,0]\n",
    "    fig1, ax1 = plt.subplots()\n",
    "    ax1.plot(times, gtx, label='gt')\n",
    "    \n",
    "    ax1.plot(times, predx, label=\"predict\")\n",
    "    \n",
    "    ax1.set_ylabel('acceleration x')\n",
    "    ax1.set_xlabel('time')\n",
    "    fig1.savefig(folder + 'acceleration_x.png')\n",
    "    \n",
    "    gty = gt[:,1]\n",
    "    predy = prediction[:,1]\n",
    "    fig2, ax2 = plt.subplots()\n",
    "    ax2.plot(times, gty, label='gt')\n",
    "    \n",
    "    ax2.plot(times, predy, label=\"predict\")\n",
    "    \n",
    "    ax2.set_ylabel('acceleration y')\n",
    "    ax2.set_xlabel('time')\n",
    "    fig2.savefig(folder + 'acceleration_y.png')\n",
    "    \n",
    "    plt.close(fig1)\n",
    "    plt.close(fig2)\n",
    "    \n",
    "#     gtz = gt[:,2]\n",
    "#     predz = prediction[:,2]\n",
    "#     fig3, ax3 = plt.subplots()\n",
    "#     ax3.plot(times, gtz, label='gt')\n",
    "    \n",
    "#     ax3.plot(times, predz, label=\"predict\")\n",
    "    \n",
    "#     ax3.set_ylabel('acceleration z')\n",
    "#     ax3.set_xlabel('time')\n",
    "#     fig3.show()\n",
    "\n",
    "def MAE(predict, label):\n",
    "    result = np.abs(predict - label)\n",
    "    result = result.reshape((-1,3))\n",
    "    return np.mean(result, axis=0)\n",
    "    \n",
    "def MSE(predict, label):\n",
    "    result = (predict - label)**2\n",
    "    result = result.reshape((-1, 3))\n",
    "    return np.mean(result, axis=0)\n",
    "\n",
    "def predict(raw):\n",
    "    length, _ = raw.shape\n",
    "    prediction = np.zeros((length, 3))\n",
    "    prediction[:OBSERVE_LENGTH, :] = raw[:OBSERVE_LENGTH, -3:].copy()\n",
    "    acceleration = np.zeros((length, 3))\n",
    "    acceleration[:OBSERVE_LENGTH, :] = raw[:OBSERVE_LENGTH, -3:].copy()\n",
    "    \n",
    "    predict_start = OBSERVE_LENGTH\n",
    "    \n",
    "    while predict_start < length:\n",
    "        if predict_start + PREDICT_LENGTH > length:\n",
    "            predict_start = length - PREDICT_LENGTH\n",
    "            \n",
    "        test_X = np.zeros((1,OBSERVE_LENGTH,dim_input))\n",
    "        \n",
    "        #load feats\n",
    "        test_X[0, :, :-3] = raw[predict_start - OBSERVE_LENGTH:predict_start, :-3]\n",
    "        #laod acceleration\n",
    "        test_X[0, :, -3:] = acceleration[predict_start - OBSERVE_LENGTH:predict_start, :]\n",
    "        \n",
    "        \n",
    "        predict_y = model.predict(test_X)\n",
    "        prediction[predict_start:predict_start+PREDICT_LENGTH, :] = predict_y.squeeze().copy()\n",
    "        acceleration[predict_start:predict_start+PREDICT_LENGTH, :] = predict_y.squeeze().copy()\n",
    "        \n",
    "        predict_start = predict_start + PREDICT_LENGTH\n",
    "        \n",
    "    return prediction"
   ]
  },
  {
   "cell_type": "code",
   "execution_count": 12,
   "metadata": {},
   "outputs": [
    {
     "name": "stdout",
     "output_type": "stream",
     "text": [
      "test csv num: 150\n"
     ]
    },
    {
     "data": {
      "application/vnd.jupyter.widget-view+json": {
       "model_id": "61bed3389e6f43debd1e59d0ac90bc09",
       "version_major": 2,
       "version_minor": 0
      },
      "text/plain": [
       "HBox(children=(IntProgress(value=0, max=150), HTML(value='')))"
      ]
     },
     "metadata": {},
     "output_type": "display_data"
    },
    {
     "name": "stdout",
     "output_type": "stream",
     "text": [
      "\n"
     ]
    }
   ],
   "source": [
    "# use gt predicion\n",
    "BOX_PTS = 9\n",
    "TEST_FILES = '/home/dataset/team2/validation/validation*/*_smooth_{}.csv'.format(BOX_PTS)\n",
    "\n",
    "test_csvs = glob.glob(TEST_FILES)\n",
    "test_num = len(test_csvs)\n",
    "# print(test_csvs)\n",
    "print('test csv num:', len(test_csvs))\n",
    "dim_input = 15\n",
    "\n",
    "total_mae = []\n",
    "total_mse = []\n",
    "\n",
    "predict_path = '/home/zg2309/prediction/{}/'.format(model_name)\n",
    "\n",
    "if os.path.exists(predict_path):\n",
    "    shutil.rmtree(predict_path)\n",
    "os.mkdir(predict_path)\n",
    "\n",
    "for csv in tqdm(test_csvs):\n",
    "    raw = pd.read_csv(csv).values\n",
    "    gt = raw[:,-3:]\n",
    "    prediction = predict(raw)\n",
    "    \n",
    "    tar_name = csv.split('/')[5]\n",
    "    tar_path = predict_path + tar_name + '/'\n",
    "\n",
    "    if not os.path.exists(tar_path):\n",
    "        os.mkdir(tar_path)\n",
    "        \n",
    "    seg_name = csv.split('/')[6][:-13]\n",
    "    \n",
    "    folder = tar_path + seg_name + '/'\n",
    "    if os.path.exists(folder):\n",
    "        shutil.rmtree(folder)\n",
    "    os.mkdir(folder)\n",
    "    \n",
    "    np.save(folder + 'prediction.npy', prediction)\n",
    "    \n",
    "    visualize_trajectory(prediction, gt, folder)\n",
    "    \n",
    "    mae_x, mae_y, mae_z = MAE(prediction, gt)\n",
    "    mse_x, mse_y, mse_z = MSE(prediction, gt)\n",
    "\n",
    "    total_mae.append(np.array([mae_x,mae_y,mae_z]))\n",
    "    total_mse.append(np.array([mse_x,mse_y,mse_z]))                     "
   ]
  },
  {
   "cell_type": "code",
   "execution_count": 13,
   "metadata": {},
   "outputs": [
    {
     "name": "stdout",
     "output_type": "stream",
     "text": [
      "MAE X Y Z:  [0.3514694  0.32181093 0.0440951 ]\n",
      "MSE X Y Z:  [0.31377743 0.29975836 0.00574004]\n"
     ]
    }
   ],
   "source": [
    "# abandon z\n",
    "total_mae = np.array(total_mae)\n",
    "total_mse = np.array(total_mse)\n",
    "print('MAE X Y Z: ', np.mean(total_mae, axis=0))\n",
    "print('MSE X Y Z: ', np.mean(total_mse, axis=0))"
   ]
  },
  {
   "cell_type": "code",
   "execution_count": 7,
   "metadata": {},
   "outputs": [
    {
     "data": {
      "text/plain": [
       "(198, 3)"
      ]
     },
     "execution_count": 7,
     "metadata": {},
     "output_type": "execute_result"
    }
   ],
   "source": [
    "prediction.shape"
   ]
  },
  {
   "cell_type": "code",
   "execution_count": null,
   "metadata": {},
   "outputs": [],
   "source": []
  }
 ],
 "metadata": {
  "kernelspec": {
   "display_name": "Python 3",
   "language": "python",
   "name": "python3"
  },
  "language_info": {
   "codemirror_mode": {
    "name": "ipython",
    "version": 3
   },
   "file_extension": ".py",
   "mimetype": "text/x-python",
   "name": "python",
   "nbconvert_exporter": "python",
   "pygments_lexer": "ipython3",
   "version": "3.6.8"
  }
 },
 "nbformat": 4,
 "nbformat_minor": 2
}
