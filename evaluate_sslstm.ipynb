{
 "cells": [
  {
   "cell_type": "code",
   "execution_count": 1,
   "metadata": {},
   "outputs": [
    {
     "name": "stderr",
     "output_type": "stream",
     "text": [
      "/usr/local/lib/python3.5/dist-packages/tensorflow/python/framework/dtypes.py:516: FutureWarning: Passing (type, 1) or '1type' as a synonym of type is deprecated; in a future version of numpy, it will be understood as (type, (1,)) / '(1,)type'.\n",
      "  _np_qint8 = np.dtype([(\"qint8\", np.int8, 1)])\n",
      "/usr/local/lib/python3.5/dist-packages/tensorflow/python/framework/dtypes.py:517: FutureWarning: Passing (type, 1) or '1type' as a synonym of type is deprecated; in a future version of numpy, it will be understood as (type, (1,)) / '(1,)type'.\n",
      "  _np_quint8 = np.dtype([(\"quint8\", np.uint8, 1)])\n",
      "/usr/local/lib/python3.5/dist-packages/tensorflow/python/framework/dtypes.py:518: FutureWarning: Passing (type, 1) or '1type' as a synonym of type is deprecated; in a future version of numpy, it will be understood as (type, (1,)) / '(1,)type'.\n",
      "  _np_qint16 = np.dtype([(\"qint16\", np.int16, 1)])\n",
      "/usr/local/lib/python3.5/dist-packages/tensorflow/python/framework/dtypes.py:519: FutureWarning: Passing (type, 1) or '1type' as a synonym of type is deprecated; in a future version of numpy, it will be understood as (type, (1,)) / '(1,)type'.\n",
      "  _np_quint16 = np.dtype([(\"quint16\", np.uint16, 1)])\n",
      "/usr/local/lib/python3.5/dist-packages/tensorflow/python/framework/dtypes.py:520: FutureWarning: Passing (type, 1) or '1type' as a synonym of type is deprecated; in a future version of numpy, it will be understood as (type, (1,)) / '(1,)type'.\n",
      "  _np_qint32 = np.dtype([(\"qint32\", np.int32, 1)])\n",
      "/usr/local/lib/python3.5/dist-packages/tensorflow/python/framework/dtypes.py:525: FutureWarning: Passing (type, 1) or '1type' as a synonym of type is deprecated; in a future version of numpy, it will be understood as (type, (1,)) / '(1,)type'.\n",
      "  np_resource = np.dtype([(\"resource\", np.ubyte, 1)])\n"
     ]
    }
   ],
   "source": [
    "import pandas as pd\n",
    "import tensorflow as tf\n",
    "import numpy as np\n",
    "import matplotlib.pyplot as plt\n",
    "import glob\n",
    "import os\n",
    "import shutil\n",
    "from tqdm.notebook import tqdm"
   ]
  },
  {
   "cell_type": "code",
   "execution_count": 2,
   "metadata": {},
   "outputs": [
    {
     "name": "stdout",
     "output_type": "stream",
     "text": [
      "/home/zg2309/model/sslstm_epoch_300_hidden_128_observe_10_predict_5.h5\n",
      "WARNING:tensorflow:From /usr/local/lib/python3.5/dist-packages/tensorflow/python/ops/init_ops.py:97: calling GlorotUniform.__init__ (from tensorflow.python.ops.init_ops) with dtype is deprecated and will be removed in a future version.\n",
      "Instructions for updating:\n",
      "Call initializer instance with the dtype argument instead of passing it to the constructor\n",
      "WARNING:tensorflow:From /usr/local/lib/python3.5/dist-packages/tensorflow/python/ops/init_ops.py:1251: calling VarianceScaling.__init__ (from tensorflow.python.ops.init_ops) with dtype is deprecated and will be removed in a future version.\n",
      "Instructions for updating:\n",
      "Call initializer instance with the dtype argument instead of passing it to the constructor\n",
      "WARNING:tensorflow:From /usr/local/lib/python3.5/dist-packages/tensorflow/python/ops/init_ops.py:97: calling Orthogonal.__init__ (from tensorflow.python.ops.init_ops) with dtype is deprecated and will be removed in a future version.\n",
      "Instructions for updating:\n",
      "Call initializer instance with the dtype argument instead of passing it to the constructor\n",
      "WARNING:tensorflow:From /usr/local/lib/python3.5/dist-packages/tensorflow/python/ops/init_ops.py:97: calling Zeros.__init__ (from tensorflow.python.ops.init_ops) with dtype is deprecated and will be removed in a future version.\n",
      "Instructions for updating:\n",
      "Call initializer instance with the dtype argument instead of passing it to the constructor\n",
      "WARNING:tensorflow:From /usr/local/lib/python3.5/dist-packages/tensorflow/python/ops/math_grad.py:1250: add_dispatch_support.<locals>.wrapper (from tensorflow.python.ops.array_ops) is deprecated and will be removed in a future version.\n",
      "Instructions for updating:\n",
      "Use tf.where in 2.0, which has the same broadcast rule as np.where\n",
      "Model: \"sequential\"\n",
      "_________________________________________________________________\n",
      "Layer (type)                 Output Shape              Param #   \n",
      "=================================================================\n",
      "gru (GRU)                    (None, 128)               55296     \n",
      "_________________________________________________________________\n",
      "repeat_vector (RepeatVector) (None, 5, 128)            0         \n",
      "_________________________________________________________________\n",
      "gru_1 (GRU)                  (None, 5, 128)            98688     \n",
      "_________________________________________________________________\n",
      "time_distributed (TimeDistri (None, 5, 3)              387       \n",
      "_________________________________________________________________\n",
      "activation (Activation)      (None, 5, 3)              0         \n",
      "=================================================================\n",
      "Total params: 154,371\n",
      "Trainable params: 154,371\n",
      "Non-trainable params: 0\n",
      "_________________________________________________________________\n"
     ]
    }
   ],
   "source": [
    "from tensorflow.keras.models import load_model\n",
    "\n",
    "n_hidden = 128\n",
    "OBSERVE_LENGTH = 10\n",
    "PREDICT_LENGTH = 5\n",
    "epochs = 300\n",
    "\n",
    "model_name = 'sslstm_epoch_{}_hidden_{}_observe_{}_predict_{}'.format(epochs, n_hidden, OBSERVE_LENGTH, PREDICT_LENGTH)\n",
    "model_path = '/home/zg2309/model/{}.h5'.format(model_name)\n",
    "print(model_path)\n",
    "# load model\n",
    "model = load_model(model_path)\n",
    "# summarize model.\n",
    "model.summary()"
   ]
  },
  {
   "cell_type": "code",
   "execution_count": 3,
   "metadata": {},
   "outputs": [
    {
     "data": {
      "image/png": "[encoded data removed]",
      "text/plain": [
       "<Figure size 432x288 with 1 Axes>"
      ]
     },
     "metadata": {
      "needs_background": "light"
     },
     "output_type": "display_data"
    }
   ],
   "source": [
    "import matplotlib.image as mpimg\n",
    "img = mpimg.imread('/home/zg2309/history/{}.png'.format(model_name))\n",
    "plt.imshow(img)\n",
    "plt.show()"
   ]
  },
  {
   "cell_type": "code",
   "execution_count": 20,
   "metadata": {},
   "outputs": [],
   "source": [
    "def visualize_trajectory(prediction, gt, folder):\n",
    "    \n",
    "    FPS = 10\n",
    "    DT = 1.0 / FPS\n",
    "    times = [t * DT for t in range(0, len(gt))]\n",
    "    \n",
    "    gtx = gt[:,0]\n",
    "    predx = prediction[:,0]\n",
    "    fig1, ax1 = plt.subplots()\n",
    "    ax1.plot(times, gtx, label='gt')\n",
    "    \n",
    "    ax1.plot(times, predx, label=\"predict\")\n",
    "    \n",
    "    ax1.set_ylabel('acceleration x')\n",
    "    ax1.set_xlabel('time')\n",
    "    fig1.savefig(folder + 'acceleration_x.png')\n",
    "    \n",
    "    gty = gt[:,1]\n",
    "    predy = prediction[:,1]\n",
    "    fig2, ax2 = plt.subplots()\n",
    "    ax2.plot(times, gty, label='gt')\n",
    "    \n",
    "    ax2.plot(times, predy, label=\"predict\")\n",
    "    \n",
    "    ax2.set_ylabel('acceleration y')\n",
    "    ax2.set_xlabel('time')\n",
    "    fig2.savefig(folder + 'acceleration_y.png')\n",
    "    \n",
    "    plt.close(fig1)\n",
    "    plt.close(fig2)\n",
    "    \n",
    "#     gtz = gt[:,2]\n",
    "#     predz = prediction[:,2]\n",
    "#     fig3, ax3 = plt.subplots()\n",
    "#     ax3.plot(times, gtz, label='gt')\n",
    "    \n",
    "#     ax3.plot(times, predz, label=\"predict\")\n",
    "    \n",
    "#     ax3.set_ylabel('acceleration z')\n",
    "#     ax3.set_xlabel('time')\n",
    "#     fig3.show()\n",
    "\n",
    "def MAE(predict, label):\n",
    "    result = np.abs(predict - label)\n",
    "    result = result.reshape((-1,2))\n",
    "    return np.mean(result, axis=0)\n",
    "    \n",
    "def MSE(predict, label):\n",
    "    result = (predict - label)**2\n",
    "    result = result.reshape((-1, 2))\n",
    "    return np.mean(result, axis=0)\n",
    "\n",
    "def total_MAE(predict, label):\n",
    "    result = (predict - label)**2\n",
    "    result = np.sum(result, axis=1)\n",
    "    result = np.sqrt(result)\n",
    "    return np.mean(result)\n",
    "    \n",
    "def total_MSE(predict, label):\n",
    "    result = (predict - label)**2\n",
    "    result = np.sum(result, axis=1)\n",
    "    return np.mean(result)\n",
    "\n",
    "def predict(raw):\n",
    "    length, _ = raw.shape\n",
    "    prediction = np.zeros((length, 3))\n",
    "    prediction[:OBSERVE_LENGTH, :] = raw[:OBSERVE_LENGTH, -3:].copy()\n",
    "    acceleration = np.zeros((length, 3))\n",
    "    acceleration[:OBSERVE_LENGTH, :] = raw[:OBSERVE_LENGTH, -3:].copy()\n",
    "    \n",
    "    predict_start = OBSERVE_LENGTH\n",
    "    \n",
    "    while predict_start < length:\n",
    "        if predict_start + PREDICT_LENGTH > length:\n",
    "            predict_start = length - PREDICT_LENGTH\n",
    "            \n",
    "        test_X = np.zeros((1,OBSERVE_LENGTH,dim_input))\n",
    "        \n",
    "        #load feats\n",
    "        test_X[0, :, :-3] = raw[predict_start - OBSERVE_LENGTH:predict_start, :-3]\n",
    "        #laod acceleration\n",
    "        test_X[0, :, -3:] = acceleration[predict_start - OBSERVE_LENGTH:predict_start, :]\n",
    "        \n",
    "        \n",
    "        predict_y = model.predict(test_X)\n",
    "        prediction[predict_start:predict_start+PREDICT_LENGTH, :] = predict_y.squeeze().copy()\n",
    "        acceleration[predict_start:predict_start+PREDICT_LENGTH, :] = predict_y.squeeze().copy()\n",
    "        \n",
    "        predict_start = predict_start + PREDICT_LENGTH\n",
    "        \n",
    "    return prediction[:, :2]"
   ]
  },
  {
   "cell_type": "code",
   "execution_count": 17,
   "metadata": {},
   "outputs": [
    {
     "name": "stdout",
     "output_type": "stream",
     "text": [
      "test csv num: 150\n"
     ]
    },
    {
     "data": {
      "application/vnd.jupyter.widget-view+json": {
       "model_id": "9b0d98eb016d4fb8aa5e45869bf4fdf7",
       "version_major": 2,
       "version_minor": 0
      },
      "text/plain": [
       "HBox(children=(IntProgress(value=0, max=150), HTML(value='')))"
      ]
     },
     "metadata": {},
     "output_type": "display_data"
    },
    {
     "name": "stderr",
     "output_type": "stream",
     "text": [
      "/usr/local/lib/python3.5/dist-packages/ipykernel_launcher.py:53: DeprecationWarning: elementwise comparison failed; this will raise an error in the future.\n",
      "/usr/local/lib/python3.5/dist-packages/ipykernel_launcher.py:58: DeprecationWarning: elementwise comparison failed; this will raise an error in the future.\n"
     ]
    },
    {
     "name": "stdout",
     "output_type": "stream",
     "text": [
      "\n"
     ]
    }
   ],
   "source": [
    "# use gt predicion\n",
    "BOX_PTS = 9\n",
    "TEST_FILES = '/home/dataset/data/validation/validation*/*_smooth_{}.csv'.format(BOX_PTS)\n",
    "\n",
    "test_csvs = glob.glob(TEST_FILES)\n",
    "test_num = len(test_csvs)\n",
    "# print(test_csvs)\n",
    "print('test csv num:', len(test_csvs))\n",
    "dim_input = 15\n",
    "\n",
    "predict_path = '/home/zg2309/prediction/{}/'.format(model_name)\n",
    "\n",
    "if os.path.exists(predict_path):\n",
    "    shutil.rmtree(predict_path)\n",
    "os.mkdir(predict_path)\n",
    "\n",
    "total_prediction = []\n",
    "total_gt = []\n",
    "\n",
    "total_mae = []\n",
    "total_mse = []\n",
    "\n",
    "for csv in tqdm(test_csvs):\n",
    "    raw = pd.read_csv(csv).values\n",
    "    gt = raw[:,-3:]\n",
    "    gt = gt[:, :2]\n",
    "    \n",
    "    prediction = predict(raw)\n",
    "    \n",
    "    tar_name = csv.split('/')[5]\n",
    "    tar_path = predict_path + tar_name + '/'\n",
    "\n",
    "    if not os.path.exists(tar_path):\n",
    "        os.mkdir(tar_path)\n",
    "        \n",
    "    seg_name = csv.split('/')[6][:-13]\n",
    "    \n",
    "    folder = tar_path + seg_name + '/'\n",
    "    if os.path.exists(folder):\n",
    "        shutil.rmtree(folder)\n",
    "    os.mkdir(folder)\n",
    "    \n",
    "    np.save(folder + 'prediction.npy', prediction)\n",
    "    \n",
    "    visualize_trajectory(prediction, gt, folder)\n",
    "    \n",
    "    mae_x, mae_y = MAE(prediction, gt)\n",
    "    mse_x, mse_y = MSE(prediction, gt)\n",
    "\n",
    "    total_mae.append(np.array([mae_x,mae_y]))\n",
    "    total_mse.append(np.array([mse_x,mse_y]))\n",
    "    \n",
    "    if total_gt == []:\n",
    "        total_gt = gt\n",
    "    else:\n",
    "        total_gt = np.vstack((total_gt, gt))\n",
    "       \n",
    "    if total_prediction == []:\n",
    "        total_prediction = prediction\n",
    "    else:\n",
    "        total_prediction = np.vstack((total_prediction, prediction))               "
   ]
  },
  {
   "cell_type": "code",
   "execution_count": 21,
   "metadata": {
    "scrolled": true
   },
   "outputs": [
    {
     "name": "stdout",
     "output_type": "stream",
     "text": [
      "(29604, 2)\n",
      "(29604, 2)\n",
      "(29604,)\n",
      "(29604,)\n",
      "tMAE:  0.5202061322676962\n",
      "tMSE:  0.5834306610507806\n"
     ]
    }
   ],
   "source": [
    "tMAE = total_MAE(total_prediction, total_gt)\n",
    "tMSE = total_MSE(total_prediction, total_gt)\n",
    "print('tMAE: ', tMAE)\n",
    "print('tMSE: ', tMSE)"
   ]
  },
  {
   "cell_type": "code",
   "execution_count": 19,
   "metadata": {},
   "outputs": [
    {
     "name": "stdout",
     "output_type": "stream",
     "text": [
      "MAE X Y:  [0.31793119 0.30819492]\n",
      "MSE X Y:  [0.28734925 0.29636219]\n"
     ]
    }
   ],
   "source": [
    "total_mae = np.array(total_mae)\n",
    "total_mse = np.array(total_mse)\n",
    "print('MAE X Y: ', np.mean(total_mae, axis=0))\n",
    "print('MSE X Y: ', np.mean(total_mse, axis=0))"
   ]
  },
  {
   "cell_type": "code",
   "execution_count": 16,
   "metadata": {},
   "outputs": [
    {
     "data": {
      "text/plain": [
       "(198, 2)"
      ]
     },
     "execution_count": 16,
     "metadata": {},
     "output_type": "execute_result"
    }
   ],
   "source": [
    "prediction.shape"
   ]
  },
  {
   "cell_type": "code",
   "execution_count": null,
   "metadata": {},
   "outputs": [],
   "source": []
  }
 ],
 "metadata": {
  "kernelspec": {
   "display_name": "Python 3",
   "language": "python",
   "name": "python3"
  },
  "language_info": {
   "codemirror_mode": {
    "name": "ipython",
    "version": 3
   },
   "file_extension": ".py",
   "mimetype": "text/x-python",
   "name": "python",
   "nbconvert_exporter": "python",
   "pygments_lexer": "ipython3",
   "version": "3.5.3"
  }
 },
 "nbformat": 4,
 "nbformat_minor": 2
}
