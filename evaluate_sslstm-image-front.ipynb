{
 "cells": [
  {
   "cell_type": "code",
   "execution_count": 1,
   "metadata": {},
   "outputs": [
    {
     "name": "stderr",
     "output_type": "stream",
     "text": [
      "/usr/local/lib/python3.5/dist-packages/tensorflow/python/framework/dtypes.py:516: FutureWarning: Passing (type, 1) or '1type' as a synonym of type is deprecated; in a future version of numpy, it will be understood as (type, (1,)) / '(1,)type'.\n",
      "  _np_qint8 = np.dtype([(\"qint8\", np.int8, 1)])\n",
      "/usr/local/lib/python3.5/dist-packages/tensorflow/python/framework/dtypes.py:517: FutureWarning: Passing (type, 1) or '1type' as a synonym of type is deprecated; in a future version of numpy, it will be understood as (type, (1,)) / '(1,)type'.\n",
      "  _np_quint8 = np.dtype([(\"quint8\", np.uint8, 1)])\n",
      "/usr/local/lib/python3.5/dist-packages/tensorflow/python/framework/dtypes.py:518: FutureWarning: Passing (type, 1) or '1type' as a synonym of type is deprecated; in a future version of numpy, it will be understood as (type, (1,)) / '(1,)type'.\n",
      "  _np_qint16 = np.dtype([(\"qint16\", np.int16, 1)])\n",
      "/usr/local/lib/python3.5/dist-packages/tensorflow/python/framework/dtypes.py:519: FutureWarning: Passing (type, 1) or '1type' as a synonym of type is deprecated; in a future version of numpy, it will be understood as (type, (1,)) / '(1,)type'.\n",
      "  _np_quint16 = np.dtype([(\"quint16\", np.uint16, 1)])\n",
      "/usr/local/lib/python3.5/dist-packages/tensorflow/python/framework/dtypes.py:520: FutureWarning: Passing (type, 1) or '1type' as a synonym of type is deprecated; in a future version of numpy, it will be understood as (type, (1,)) / '(1,)type'.\n",
      "  _np_qint32 = np.dtype([(\"qint32\", np.int32, 1)])\n",
      "/usr/local/lib/python3.5/dist-packages/tensorflow/python/framework/dtypes.py:525: FutureWarning: Passing (type, 1) or '1type' as a synonym of type is deprecated; in a future version of numpy, it will be understood as (type, (1,)) / '(1,)type'.\n",
      "  np_resource = np.dtype([(\"resource\", np.ubyte, 1)])\n"
     ]
    }
   ],
   "source": [
    "import pandas as pd\n",
    "import tensorflow as tf\n",
    "import numpy as np\n",
    "import matplotlib.pyplot as plt\n",
    "import glob\n",
    "import os\n",
    "import shutil\n",
    "from tqdm.notebook import tqdm"
   ]
  },
  {
   "cell_type": "code",
   "execution_count": 2,
   "metadata": {},
   "outputs": [
    {
     "name": "stdout",
     "output_type": "stream",
     "text": [
      "/home/zg2309/model/sslstm-image-front_epoch_300_hidden_128_observe_10_predict_5.h5\n",
      "WARNING:tensorflow:From /usr/local/lib/python3.5/dist-packages/tensorflow/python/ops/init_ops.py:97: calling GlorotUniform.__init__ (from tensorflow.python.ops.init_ops) with dtype is deprecated and will be removed in a future version.\n",
      "Instructions for updating:\n",
      "Call initializer instance with the dtype argument instead of passing it to the constructor\n",
      "WARNING:tensorflow:From /usr/local/lib/python3.5/dist-packages/tensorflow/python/ops/init_ops.py:1251: calling VarianceScaling.__init__ (from tensorflow.python.ops.init_ops) with dtype is deprecated and will be removed in a future version.\n",
      "Instructions for updating:\n",
      "Call initializer instance with the dtype argument instead of passing it to the constructor\n",
      "WARNING:tensorflow:From /usr/local/lib/python3.5/dist-packages/tensorflow/python/ops/init_ops.py:97: calling Orthogonal.__init__ (from tensorflow.python.ops.init_ops) with dtype is deprecated and will be removed in a future version.\n",
      "Instructions for updating:\n",
      "Call initializer instance with the dtype argument instead of passing it to the constructor\n",
      "WARNING:tensorflow:From /usr/local/lib/python3.5/dist-packages/tensorflow/python/ops/init_ops.py:97: calling Zeros.__init__ (from tensorflow.python.ops.init_ops) with dtype is deprecated and will be removed in a future version.\n",
      "Instructions for updating:\n",
      "Call initializer instance with the dtype argument instead of passing it to the constructor\n",
      "WARNING:tensorflow:From /usr/local/lib/python3.5/dist-packages/tensorflow/python/ops/math_grad.py:1250: add_dispatch_support.<locals>.wrapper (from tensorflow.python.ops.array_ops) is deprecated and will be removed in a future version.\n",
      "Instructions for updating:\n",
      "Use tf.where in 2.0, which has the same broadcast rule as np.where\n",
      "Model: \"model\"\n",
      "__________________________________________________________________________________________________\n",
      "Layer (type)                    Output Shape         Param #     Connected to                     \n",
      "==================================================================================================\n",
      "input_2 (InputLayer)            [(None, 10, 1536)]   0                                            \n",
      "__________________________________________________________________________________________________\n",
      "input_1 (InputLayer)            [(None, 10, 12)]     0                                            \n",
      "__________________________________________________________________________________________________\n",
      "gru_1 (GRU)                     (None, 128)          639360      input_2[0][0]                    \n",
      "__________________________________________________________________________________________________\n",
      "gru (GRU)                       (None, 128)          54144       input_1[0][0]                    \n",
      "__________________________________________________________________________________________________\n",
      "concatenate (Concatenate)       (None, 256)          0           gru_1[0][0]                      \n",
      "                                                                 gru[0][0]                        \n",
      "__________________________________________________________________________________________________\n",
      "repeat_vector (RepeatVector)    (None, 5, 256)       0           concatenate[0][0]                \n",
      "__________________________________________________________________________________________________\n",
      "gru_2 (GRU)                     (None, 5, 128)       147840      repeat_vector[0][0]              \n",
      "__________________________________________________________________________________________________\n",
      "time_distributed (TimeDistribut (None, 5, 3)         387         gru_2[0][0]                      \n",
      "__________________________________________________________________________________________________\n",
      "activation (Activation)         (None, 5, 3)         0           time_distributed[0][0]           \n",
      "==================================================================================================\n",
      "Total params: 841,731\n",
      "Trainable params: 841,731\n",
      "Non-trainable params: 0\n",
      "__________________________________________________________________________________________________\n"
     ]
    }
   ],
   "source": [
    "from tensorflow.keras.models import load_model\n",
    "\n",
    "\n",
    "EPOCHS = 300\n",
    "N_HIDDEN = 128\n",
    "OBSERVE_LENGTH = 10\n",
    "PREDICT_LENGTH = 5\n",
    "FEAT_DIM = 12\n",
    "LEARNING_RATE = 0.0001\n",
    "BATCH_SIZE = 64\n",
    "IMG_DIM = 1536\n",
    "\n",
    "MODEL_NAME = 'sslstm-image-front_epoch_{}_hidden_{}_observe_{}_predict_{}'.format(EPOCHS, N_HIDDEN, OBSERVE_LENGTH, PREDICT_LENGTH)\n",
    "model_path = '/home/zg2309/model/{}.h5'.format(MODEL_NAME)\n",
    "print(model_path)\n",
    "# load model\n",
    "model = load_model(model_path)\n",
    "# summarize model.\n",
    "model.summary()"
   ]
  },
  {
   "cell_type": "code",
   "execution_count": 3,
   "metadata": {},
   "outputs": [
    {
     "data": {
      "image/png": "[encoded data removed]",
      "text/plain": [
       "<Figure size 432x288 with 1 Axes>"
      ]
     },
     "metadata": {
      "needs_background": "light"
     },
     "output_type": "display_data"
    }
   ],
   "source": [
    "import matplotlib.image as mpimg\n",
    "img = mpimg.imread('/home/zg2309/history/{}.png'.format(MODEL_NAME))\n",
    "plt.imshow(img)\n",
    "plt.show()"
   ]
  },
  {
   "cell_type": "code",
   "execution_count": 4,
   "metadata": {},
   "outputs": [],
   "source": [
    "def visualize_trajectory(prediction, gt, folder):\n",
    "    \n",
    "    FPS = 10\n",
    "    DT = 1.0 / FPS\n",
    "    times = [t * DT for t in range(0, len(gt))]\n",
    "    \n",
    "    gtx = gt[:,0]\n",
    "    predx = prediction[:,0]\n",
    "    fig1, ax1 = plt.subplots()\n",
    "    ax1.plot(times, gtx, label='gt')\n",
    "    \n",
    "    ax1.plot(times, predx, label=\"predict\")\n",
    "    \n",
    "    ax1.set_ylabel('acceleration x')\n",
    "    ax1.set_xlabel('time')\n",
    "    fig1.savefig(folder + 'acceleration_x.png')\n",
    "    \n",
    "    gty = gt[:,1]\n",
    "    predy = prediction[:,1]\n",
    "    fig2, ax2 = plt.subplots()\n",
    "    ax2.plot(times, gty, label='gt')\n",
    "    \n",
    "    ax2.plot(times, predy, label=\"predict\")\n",
    "    \n",
    "    ax2.set_ylabel('acceleration y')\n",
    "    ax2.set_xlabel('time')\n",
    "    fig2.savefig(folder + 'acceleration_y.png')\n",
    "    \n",
    "    plt.close(fig1)\n",
    "    plt.close(fig2)\n",
    "#     gtz = gt[:,2]\n",
    "#     predz = prediction[:,2]\n",
    "#     fig3, ax3 = plt.subplots()\n",
    "#     ax3.plot(times, gtz, label='gt')\n",
    "    \n",
    "#     ax3.plot(times, predz, label=\"predict\")\n",
    "    \n",
    "#     ax3.set_ylabel('acceleration z')\n",
    "#     ax3.set_xlabel('time')\n",
    "#     fig3.show()\n",
    "\n",
    "def MAE(predict, label):\n",
    "    result = np.abs(predict - label)\n",
    "    result = result.reshape((-1,2))\n",
    "    return np.mean(result, axis=0)\n",
    "    \n",
    "def MSE(predict, label):\n",
    "    result = (predict - label)**2\n",
    "    result = result.reshape((-1, 2))\n",
    "    return np.mean(result, axis=0)\n",
    "\n",
    "def total_MAE(predict, label):\n",
    "    result = (predict - label)**2\n",
    "    result = np.sum(result, axis=1)\n",
    "    result = np.sqrt(result)\n",
    "    return np.mean(result)\n",
    "    \n",
    "def total_MSE(predict, label):\n",
    "    result = (predict - label)**2\n",
    "    result = np.sum(result, axis=1)\n",
    "    return np.mean(result)\n",
    "\n",
    "def predict(raw, image_path):\n",
    "    length, _ = raw.shape\n",
    "    prediction = np.zeros((length, 3))\n",
    "    prediction[:OBSERVE_LENGTH, :] = raw[:OBSERVE_LENGTH, -3:].copy()\n",
    "    acceleration = np.zeros((length, 3))\n",
    "    acceleration[:OBSERVE_LENGTH, :] = raw[:OBSERVE_LENGTH, -3:].copy()\n",
    "    \n",
    "    predict_start = OBSERVE_LENGTH\n",
    "    \n",
    "    while predict_start < length:\n",
    "        if predict_start + PREDICT_LENGTH > length:\n",
    "            predict_start = length - PREDICT_LENGTH\n",
    "        \n",
    "        \n",
    "        X_feat = np.zeros((1,OBSERVE_LENGTH,FEAT_DIM))\n",
    "        X_image = np.zeros((1,OBSERVE_LENGTH,IMG_DIM))\n",
    "        #load feats\n",
    "        X_feat[0,:,:] = raw[predict_start - OBSERVE_LENGTH:predict_start, :-3]\n",
    "        for i in range(OBSERVE_LENGTH):\n",
    "            img_path_0 = '/home/dataset/images/0/validation/' + tar_name + '/' + seg_name + '/'\n",
    "            X_image[0, i, :] = np.load(img_path_0 + '{}.npy'.format(predict_start - OBSERVE_LENGTH + i))\n",
    "        \n",
    "        predict_y = model.predict([X_image, X_feat])\n",
    "        prediction[predict_start:predict_start+PREDICT_LENGTH, :] = predict_y.squeeze().copy()\n",
    "        acceleration[predict_start:predict_start+PREDICT_LENGTH, :] = predict_y.squeeze().copy()\n",
    "        \n",
    "        predict_start = predict_start + PREDICT_LENGTH\n",
    "        \n",
    "    return prediction[:, :2]"
   ]
  },
  {
   "cell_type": "code",
   "execution_count": 5,
   "metadata": {},
   "outputs": [
    {
     "name": "stdout",
     "output_type": "stream",
     "text": [
      "test csvs num: 150\n"
     ]
    },
    {
     "data": {
      "application/vnd.jupyter.widget-view+json": {
       "model_id": "1a4f865d39524502b18c4545039df70a",
       "version_major": 2,
       "version_minor": 0
      },
      "text/plain": [
       "HBox(children=(IntProgress(value=0, max=150), HTML(value='')))"
      ]
     },
     "metadata": {},
     "output_type": "display_data"
    },
    {
     "name": "stderr",
     "output_type": "stream",
     "text": [
      "/usr/local/lib/python3.5/dist-packages/ipykernel_launcher.py:57: DeprecationWarning: elementwise comparison failed; this will raise an error in the future.\n",
      "/usr/local/lib/python3.5/dist-packages/ipykernel_launcher.py:62: DeprecationWarning: elementwise comparison failed; this will raise an error in the future.\n"
     ]
    },
    {
     "name": "stdout",
     "output_type": "stream",
     "text": [
      "\n"
     ]
    }
   ],
   "source": [
    "BOX_PTS = 9\n",
    "TEST_FILES = '/home/dataset/data/validation/validation*/*_smooth_{}.csv'.format(BOX_PTS)\n",
    "\n",
    "test_csvs = glob.glob(TEST_FILES)\n",
    "test_num = len(test_csvs)\n",
    "# print(test_csvs)\n",
    "print('test csvs num:', len(test_csvs))\n",
    "dim_input = 15\n",
    "\n",
    "total_mae = []\n",
    "total_mse = []\n",
    "\n",
    "total_prediction = []\n",
    "total_gt = []\n",
    "\n",
    "predict_path = '/home/zg2309/prediction/{}/'.format(MODEL_NAME)\n",
    "img_prefix = '/home/dataset/images/0/validation/'\n",
    "if os.path.exists(predict_path):\n",
    "    shutil.rmtree(predict_path)\n",
    "os.mkdir(predict_path)\n",
    "\n",
    "for csv in tqdm(test_csvs):\n",
    "    raw = pd.read_csv(csv).values\n",
    "    gt = raw[:,-3:]\n",
    "    gt = gt[:, :2]\n",
    "    \n",
    "    tar_name = csv.split('/')[5]\n",
    "    tar_path = predict_path + tar_name + '/'\n",
    "\n",
    "    if not os.path.exists(tar_path):\n",
    "        os.mkdir(tar_path)\n",
    "        \n",
    "    seg_name = csv.split('/')[6][:-13]\n",
    "    \n",
    "    if tar_name in seg_name:\n",
    "        tar_len = len(tar_name)\n",
    "        seg_name = seg_name[tar_len+1:]\n",
    "    \n",
    "    img_path = img_prefix + tar_name + '/' + seg_name + '/'\n",
    "    prediction = predict(raw, img_path)\n",
    "    \n",
    "    folder = tar_path + seg_name + '/'\n",
    "    if os.path.exists(folder):\n",
    "        shutil.rmtree(folder)\n",
    "    os.mkdir(folder)\n",
    "    \n",
    "    np.save(folder + 'prediction.npy', prediction)\n",
    "    \n",
    "    visualize_trajectory(prediction, gt, folder)\n",
    "    \n",
    "    mae_x, mae_y = MAE(prediction, gt)\n",
    "    mse_x, mse_y = MSE(prediction, gt)\n",
    "\n",
    "    total_mae.append(np.array([mae_x,mae_y]))\n",
    "    total_mse.append(np.array([mse_x,mse_y]))\n",
    "    \n",
    "    if total_gt == []:\n",
    "        total_gt = gt\n",
    "    else:\n",
    "        total_gt = np.vstack((total_gt, gt))\n",
    "       \n",
    "    if total_prediction == []:\n",
    "        total_prediction = prediction\n",
    "    else:\n",
    "        total_prediction = np.vstack((total_prediction, prediction))        "
   ]
  },
  {
   "cell_type": "code",
   "execution_count": 6,
   "metadata": {},
   "outputs": [
    {
     "name": "stdout",
     "output_type": "stream",
     "text": [
      "tMAE:  0.21609417706500952\n",
      "tMSE:  0.09453866315192118\n",
      "MAE X Y:  [0.13791158 0.12789032]\n",
      "MSE X Y:  [0.04790631 0.04661391]\n"
     ]
    }
   ],
   "source": [
    "tMAE = total_MAE(total_prediction, total_gt)\n",
    "tMSE = total_MSE(total_prediction, total_gt)\n",
    "print('tMAE: ', tMAE)\n",
    "print('tMSE: ', tMSE)\n",
    "total_mae = np.array(total_mae)\n",
    "total_mse = np.array(total_mse)\n",
    "print('MAE X Y: ', np.mean(total_mae, axis=0))\n",
    "print('MSE X Y: ', np.mean(total_mse, axis=0))"
   ]
  },
  {
   "cell_type": "code",
   "execution_count": 7,
   "metadata": {},
   "outputs": [
    {
     "data": {
      "text/plain": [
       "(198, 2)"
      ]
     },
     "execution_count": 7,
     "metadata": {},
     "output_type": "execute_result"
    }
   ],
   "source": [
    "prediction.shape"
   ]
  },
  {
   "cell_type": "code",
   "execution_count": null,
   "metadata": {},
   "outputs": [],
   "source": []
  }
 ],
 "metadata": {
  "kernelspec": {
   "display_name": "Python 3",
   "language": "python",
   "name": "python3"
  },
  "language_info": {
   "codemirror_mode": {
    "name": "ipython",
    "version": 3
   },
   "file_extension": ".py",
   "mimetype": "text/x-python",
   "name": "python",
   "nbconvert_exporter": "python",
   "pygments_lexer": "ipython3",
   "version": "3.5.3"
  }
 },
 "nbformat": 4,
 "nbformat_minor": 2
}
