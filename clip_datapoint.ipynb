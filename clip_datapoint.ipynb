{
 "cells": [
  {
   "cell_type": "code",
   "execution_count": 1,
   "metadata": {},
   "outputs": [],
   "source": [
    "import glob\n",
    "import numpy as np\n",
    "import os\n",
    "import pandas as pd\n",
    "import cv2\n",
    "import shutil\n",
    "from tqdm.notebook import tqdm"
   ]
  },
  {
   "cell_type": "code",
   "execution_count": 2,
   "metadata": {},
   "outputs": [],
   "source": [
    "OBSERVE_LENGTH = 10\n",
    "PREDICT_LENGTH = 5\n",
    "\n",
    "TRAIN_SIZE = 20000\n",
    "TEST_SIZE = int(TRAIN_SIZE / 5)\n",
    "\n",
    "TRAIN_PREFIX = '/home/dataset/images/training/'\n",
    "TEST_PREFIX = '/home/dataset/images/validation/'\n",
    "\n",
    "def sample_data(src_csv, target_folder, train=True):\n",
    "#     print(folder)\n",
    "    data = pd.read_csv(src_csv).values\n",
    "    \n",
    "    data_length = len(data)\n",
    "    \n",
    "    start = np.random.randint(0, data_length-PREDICT_LENGTH-OBSERVE_LENGTH+1)\n",
    "    clip_data = data[start:start+PREDICT_LENGTH+OBSERVE_LENGTH]\n",
    "    \n",
    "    X = clip_data[:OBSERVE_LENGTH]\n",
    "    y = clip_data[-PREDICT_LENGTH:, -3:]\n",
    "    \n",
    "    np.save(target_folder+'X.npy', X)\n",
    "    np.save(target_folder+'y.npy', y)\n",
    "    \n",
    "    #grab image content\n",
    "    file_name = src_csv.split('/')[6]\n",
    "    tar_name = ('_').join(file_name.split('_')[:2])\n",
    "    seg_name = ('_').join(file_name.split('_')[2:])\n",
    "    seg_name = seg_name[:-13]\n",
    "    \n",
    "    # VIEW from 0 - 4\n",
    "    for view in range(5):\n",
    "        if train:\n",
    "            prefix = '/home/dataset/images/{}/training/'.format(view)\n",
    "        else:\n",
    "            prefix = '/home/dataset/images/{}/validation/'.format(view)\n",
    "            \n",
    "        path = prefix + tar_name + '/' + seg_name + '/'\n",
    "\n",
    "        img_path = []\n",
    "        for i in range(OBSERVE_LENGTH):\n",
    "            img_path.append(path+'{}.npy'.format(i+start))\n",
    "        \n",
    "        with open(target_folder + 'img_path_{}.txt'.format(view), 'w') as f:\n",
    "            f.write('\\n'.join(img_path))\n",
    "    \n",
    "    \n",
    "    "
   ]
  },
  {
   "cell_type": "code",
   "execution_count": 3,
   "metadata": {},
   "outputs": [
    {
     "data": {
      "application/vnd.jupyter.widget-view+json": {
       "model_id": "ab306d7fcf1349809784db90c9fc3c5d",
       "version_major": 2,
       "version_minor": 0
      },
      "text/plain": [
       "HBox(children=(IntProgress(value=0, max=20000), HTML(value='')))"
      ]
     },
     "metadata": {},
     "output_type": "display_data"
    },
    {
     "name": "stdout",
     "output_type": "stream",
     "text": [
      "\n"
     ]
    }
   ],
   "source": [
    "BOX_PTS = 9\n",
    "training_csvs = glob.glob('/home/dataset/team2/training/training*/*_smooth_{}.csv'.format(BOX_PTS))\n",
    "\n",
    "folder_idx = np.random.randint(0, len(training_csvs), TRAIN_SIZE)\n",
    "# print(folder_idx)\n",
    "\n",
    "train_path = '/home/dataset/training_observe_{}_predict_{}/'.format(OBSERVE_LENGTH, PREDICT_LENGTH)\n",
    "if os.path.exists(train_path):\n",
    "    shutil.rmtree(train_path)\n",
    "os.mkdir(train_path)\n",
    "\n",
    "for i in tqdm(range(TRAIN_SIZE)):\n",
    "    idx = folder_idx[i]\n",
    "    src_csv = training_csvs[idx]\n",
    "    dst_folder = train_path + '{}/'.format(i)\n",
    "    os.mkdir(dst_folder)\n",
    "    sample_data(src_csv, dst_folder, train=True)"
   ]
  },
  {
   "cell_type": "code",
   "execution_count": 4,
   "metadata": {},
   "outputs": [
    {
     "data": {
      "application/vnd.jupyter.widget-view+json": {
       "model_id": "fff76a2d65234244ac8fcc941d243df2",
       "version_major": 2,
       "version_minor": 0
      },
      "text/plain": [
       "HBox(children=(IntProgress(value=0, max=4000), HTML(value='')))"
      ]
     },
     "metadata": {},
     "output_type": "display_data"
    },
    {
     "name": "stdout",
     "output_type": "stream",
     "text": [
      "\n"
     ]
    }
   ],
   "source": [
    "testing_csvs = glob.glob('/home/dataset/team2/validation/validation*/*_smooth_{}.csv'.format(BOX_PTS))\n",
    "\n",
    "test_folder_idx = np.random.randint(0, len(testing_csvs), TEST_SIZE)\n",
    "\n",
    "test_path = '/home/dataset/validation_observe_{}_predict_{}/'.format(OBSERVE_LENGTH, PREDICT_LENGTH)\n",
    "if os.path.exists(test_path):\n",
    "    shutil.rmtree(test_path)\n",
    "os.mkdir(test_path)\n",
    "    \n",
    "    \n",
    "for i in tqdm(range(TEST_SIZE)):\n",
    "    idx = test_folder_idx[i]\n",
    "    src_csv = testing_csvs[idx]\n",
    "    dst_folder = test_path + '{}/'.format(i)\n",
    "    os.mkdir(dst_folder)\n",
    "    sample_data(src_csv, dst_folder, train=False)"
   ]
  },
  {
   "cell_type": "code",
   "execution_count": null,
   "metadata": {},
   "outputs": [],
   "source": []
  },
  {
   "cell_type": "code",
   "execution_count": null,
   "metadata": {},
   "outputs": [],
   "source": []
  }
 ],
 "metadata": {
  "kernelspec": {
   "display_name": "Python 3",
   "language": "python",
   "name": "python3"
  },
  "language_info": {
   "codemirror_mode": {
    "name": "ipython",
    "version": 3
   },
   "file_extension": ".py",
   "mimetype": "text/x-python",
   "name": "python",
   "nbconvert_exporter": "python",
   "pygments_lexer": "ipython3",
   "version": "3.6.8"
  }
 },
 "nbformat": 4,
 "nbformat_minor": 2
}
