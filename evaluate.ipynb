{
 "cells": [
  {
   "cell_type": "code",
   "execution_count": 11,
   "metadata": {},
   "outputs": [],
   "source": [
    "import pandas as pd\n",
    "import tensorflow as tf\n",
    "from tensorflow.keras.preprocessing import text, sequence\n",
    "from tensorflow.keras import layers\n",
    "from tensorflow.keras import optimizers\n",
    "import numpy as np\n",
    "import matplotlib.pyplot as plt\n",
    "import random\n",
    "import glob"
   ]
  },
  {
   "cell_type": "code",
   "execution_count": 12,
   "metadata": {},
   "outputs": [
    {
     "name": "stdout",
     "output_type": "stream",
     "text": [
      "test csv num: 150\n"
     ]
    }
   ],
   "source": [
    "BOX_PTS = 9\n",
    "TEST_FILES = '/home/dataset/team2/validation/validation*/*_smooth_{}.csv'.format(BOX_PTS)\n",
    "\n",
    "test_csvs = glob.glob(TEST_FILES)\n",
    "test_num = len(test_csvs)\n",
    "# print(test_csvs)\n",
    "print('test csv num:', len(test_csvs))"
   ]
  },
  {
   "cell_type": "code",
   "execution_count": 13,
   "metadata": {},
   "outputs": [
    {
     "name": "stdout",
     "output_type": "stream",
     "text": [
      "test X:  (150, 200, 12)\n",
      "test y:  (150, 600)\n"
     ]
    }
   ],
   "source": [
    "max_frame = 200\n",
    "dim_input = 12\n",
    "\n",
    "output_dim = max_frame * 3\n",
    "\n",
    "test_data = []\n",
    "for file in test_csvs:\n",
    "    raw = pd.read_csv(file).values\n",
    "    length = raw.shape[0]\n",
    "    padding = np.zeros((max_frame, dim_input + 3))\n",
    "    padding[:length, :] = raw\n",
    "    test_data.append(padding)\n",
    "\n",
    "test_data = np.array(test_data)\n",
    "test_X = test_data[:, :, :-3]\n",
    "test_y = test_data[:, :, -3:]\n",
    "test_y = test_y.reshape(-1, output_dim)\n",
    "\n",
    "print(\"test X: \", test_X.shape)\n",
    "print(\"test y: \", test_y.shape)"
   ]
  },
  {
   "cell_type": "code",
   "execution_count": 14,
   "metadata": {},
   "outputs": [
    {
     "name": "stdout",
     "output_type": "stream",
     "text": [
      "/home/zg2309/model/triple_lstm_epoch_300_hidden_256_car_following.h5\n",
      "Model: \"sequential\"\n",
      "_________________________________________________________________\n",
      "Layer (type)                 Output Shape              Param #   \n",
      "=================================================================\n",
      "lstm (LSTM)                  (None, 200, 256)          275456    \n",
      "_________________________________________________________________\n",
      "lstm_1 (LSTM)                (None, 200, 256)          525312    \n",
      "_________________________________________________________________\n",
      "lstm_2 (LSTM)                (None, 256)               525312    \n",
      "_________________________________________________________________\n",
      "dense (Dense)                (None, 600)               154200    \n",
      "=================================================================\n",
      "Total params: 1,480,280\n",
      "Trainable params: 1,480,280\n",
      "Non-trainable params: 0\n",
      "_________________________________________________________________\n"
     ]
    }
   ],
   "source": [
    "from tensorflow.keras.models import load_model\n",
    "\n",
    "model_name = 'triple_lstm_epoch_300_hidden_256_car_following'\n",
    "model_path = '/home/zg2309/model/{}.h5'.format(model_name)\n",
    "print(model_path)\n",
    "# load model\n",
    "model = load_model(model_path)\n",
    "# summarize model.\n",
    "model.summary()"
   ]
  },
  {
   "cell_type": "code",
   "execution_count": 15,
   "metadata": {},
   "outputs": [
    {
     "data": {
      "image/png": "[encoded data removed]",
      "text/plain": [
       "<Figure size 432x288 with 1 Axes>"
      ]
     },
     "metadata": {
      "needs_background": "light"
     },
     "output_type": "display_data"
    }
   ],
   "source": [
    "import matplotlib.image as mpimg\n",
    "img = mpimg.imread('/home/zg2309/history/{}.png'.format(model_name))\n",
    "plt.imshow(img)\n",
    "plt.show()"
   ]
  },
  {
   "cell_type": "code",
   "execution_count": 16,
   "metadata": {},
   "outputs": [
    {
     "name": "stdout",
     "output_type": "stream",
     "text": [
      "150/150 [==============================] - 2s 15ms/sample - loss: 0.3463\n",
      "loss: 0.346278\n"
     ]
    }
   ],
   "source": [
    "score = model.evaluate(test_X, test_y, verbose=1)\n",
    "print(\"%s: %f\" % (model.metrics_names[0], score))"
   ]
  },
  {
   "cell_type": "code",
   "execution_count": 17,
   "metadata": {},
   "outputs": [
    {
     "name": "stdout",
     "output_type": "stream",
     "text": [
      "150/150 [==============================] - 2s 14ms/sample\n",
      "(150, 600)\n"
     ]
    }
   ],
   "source": [
    "# self define loss\n",
    "prediction = model.predict(test_X, verbose=1)\n",
    "print(prediction.shape)"
   ]
  },
  {
   "cell_type": "code",
   "execution_count": 18,
   "metadata": {},
   "outputs": [
    {
     "name": "stdout",
     "output_type": "stream",
     "text": [
      "MAE X: 0.464636881976862, Y: 0.49681088797325945, Z: 0.07106175936739093\n",
      "MSE X: 0.4998758890208751, Y: 0.5278137129776962, Z: 0.011143130867517339\n"
     ]
    }
   ],
   "source": [
    "# abandon z\n",
    "predict = prediction.reshape((-1,200,3))\n",
    "label = test_y.reshape((-1,200,3))\n",
    "\n",
    "\n",
    "def MAE(predict, label):\n",
    "    result = np.abs(predict - label)\n",
    "    result = result.reshape((-1,3))\n",
    "    return np.mean(result, axis=0)\n",
    "    \n",
    "def MSE(predict, label):\n",
    "    result = (predict - label)**2\n",
    "    result = result.reshape((-1, 3))\n",
    "    return np.mean(result, axis=0)\n",
    "    \n",
    "mae_x, mae_y, mae_z = MAE(predict, label)\n",
    "mse_x, mse_y, mse_z = MSE(predict, label)\n",
    "\n",
    "print('MAE X: {}, Y: {}, Z: {}'.format(mae_x,mae_y,mae_z))\n",
    "print('MSE X: {}, Y: {}, Z: {}'.format(mse_x,mse_y,mse_z))"
   ]
  },
  {
   "cell_type": "code",
   "execution_count": 19,
   "metadata": {},
   "outputs": [
    {
     "name": "stdout",
     "output_type": "stream",
     "text": [
      "[0.34746601 0.32439568 0.04723805]\n"
     ]
    }
   ],
   "source": [
    "print(np.mean(abs(label.reshape(-1,3)), axis=0))"
   ]
  },
  {
   "cell_type": "code",
   "execution_count": 10,
   "metadata": {},
   "outputs": [],
   "source": [
    "# test_csvs = glob.glob('/home/zg2309/result/validation*/*/data_smooth.csv')\n",
    "# test_num = len(test_csvs)\n",
    "# # print(test_csvs)\n",
    "# print('test csv num:', len(test_csvs))\n",
    "# count = 0\n",
    "# for file in test_csvs:\n",
    "#     raw = pd.read_csv(file).values\n",
    "#     length = raw.shape[0]\n",
    "#     padding = np.zeros((max_frame, dim_input + 3))\n",
    "#     padding[:length, :] = raw\n",
    "#     padding = padding[:, :-3]\n",
    "    \n",
    "#     test_X = np.array([padding])\n",
    "#     prediction = model.predict(test_X)\n",
    "#     prediction = prediction.reshape(-1, 200, 3)\n",
    "#     prediction = prediction[:, :length, :].squeeze()\n",
    "#     prediction_csv = '/'.join(file.split('/')[:-1]) + '/' + model_name + '_prediction.csv'\n",
    "#     np.savetxt(prediction_csv, prediction, delimiter=\",\")\n",
    "#     count += 1\n",
    "#     if count % 50 == 0:\n",
    "#         print('predicting: {}/{}'.format(count, test_num))"
   ]
  },
  {
   "cell_type": "code",
   "execution_count": null,
   "metadata": {},
   "outputs": [],
   "source": []
  }
 ],
 "metadata": {
  "kernelspec": {
   "display_name": "Python 3",
   "language": "python",
   "name": "python3"
  },
  "language_info": {
   "codemirror_mode": {
    "name": "ipython",
    "version": 3
   },
   "file_extension": ".py",
   "mimetype": "text/x-python",
   "name": "python",
   "nbconvert_exporter": "python",
   "pygments_lexer": "ipython3",
   "version": "3.6.8"
  }
 },
 "nbformat": 4,
 "nbformat_minor": 2
}
