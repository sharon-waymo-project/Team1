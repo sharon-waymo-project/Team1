{
 "cells": [
  {
   "cell_type": "code",
   "execution_count": 1,
   "metadata": {},
   "outputs": [],
   "source": [
    "import pandas as pd\n",
    "import tensorflow as tf\n",
    "import numpy as np\n",
    "import matplotlib.pyplot as plt\n",
    "import glob\n",
    "import os\n",
    "import shutil\n",
    "from tqdm.notebook import tqdm"
   ]
  },
  {
   "cell_type": "code",
   "execution_count": 2,
   "metadata": {},
   "outputs": [
    {
     "name": "stdout",
     "output_type": "stream",
     "text": [
      "/home/zg2309/model/sslstm-image5_epoch_2000_hidden_128_observe_10_predict_5.h5\n",
      "WARNING:tensorflow:From /home/zg2309/anaconda3/envs/waymo/lib/python3.6/site-packages/tensorflow_core/python/ops/init_ops.py:97: calling GlorotUniform.__init__ (from tensorflow.python.ops.init_ops) with dtype is deprecated and will be removed in a future version.\n",
      "Instructions for updating:\n",
      "Call initializer instance with the dtype argument instead of passing it to the constructor\n",
      "WARNING:tensorflow:From /home/zg2309/anaconda3/envs/waymo/lib/python3.6/site-packages/tensorflow_core/python/ops/init_ops.py:97: calling Orthogonal.__init__ (from tensorflow.python.ops.init_ops) with dtype is deprecated and will be removed in a future version.\n",
      "Instructions for updating:\n",
      "Call initializer instance with the dtype argument instead of passing it to the constructor\n",
      "WARNING:tensorflow:From /home/zg2309/anaconda3/envs/waymo/lib/python3.6/site-packages/tensorflow_core/python/ops/init_ops.py:97: calling Zeros.__init__ (from tensorflow.python.ops.init_ops) with dtype is deprecated and will be removed in a future version.\n",
      "Instructions for updating:\n",
      "Call initializer instance with the dtype argument instead of passing it to the constructor\n",
      "WARNING:tensorflow:From /home/zg2309/anaconda3/envs/waymo/lib/python3.6/site-packages/tensorflow_core/python/ops/resource_variable_ops.py:1630: calling BaseResourceVariable.__init__ (from tensorflow.python.ops.resource_variable_ops) with constraint is deprecated and will be removed in a future version.\n",
      "Instructions for updating:\n",
      "If using Keras pass *_constraint arguments to layers.\n",
      "WARNING:tensorflow:From /home/zg2309/anaconda3/envs/waymo/lib/python3.6/site-packages/tensorflow_core/python/ops/math_grad.py:1424: where (from tensorflow.python.ops.array_ops) is deprecated and will be removed in a future version.\n",
      "Instructions for updating:\n",
      "Use tf.where in 2.0, which has the same broadcast rule as np.where\n",
      "Model: \"model\"\n",
      "__________________________________________________________________________________________________\n",
      "Layer (type)                    Output Shape         Param #     Connected to                     \n",
      "==================================================================================================\n",
      "input_8 (InputLayer)            [(None, 10, 2048)]   0                                            \n",
      "__________________________________________________________________________________________________\n",
      "input_9 (InputLayer)            [(None, 10, 2048)]   0                                            \n",
      "__________________________________________________________________________________________________\n",
      "input_10 (InputLayer)           [(None, 10, 2048)]   0                                            \n",
      "__________________________________________________________________________________________________\n",
      "input_11 (InputLayer)           [(None, 10, 2048)]   0                                            \n",
      "__________________________________________________________________________________________________\n",
      "input_12 (InputLayer)           [(None, 10, 2048)]   0                                            \n",
      "__________________________________________________________________________________________________\n",
      "input_7 (InputLayer)            [(None, 10, 12)]     0                                            \n",
      "__________________________________________________________________________________________________\n",
      "gru_8 (GRU)                     (None, 128)          835968      input_8[0][0]                    \n",
      "__________________________________________________________________________________________________\n",
      "gru_9 (GRU)                     (None, 128)          835968      input_9[0][0]                    \n",
      "__________________________________________________________________________________________________\n",
      "gru_10 (GRU)                    (None, 128)          835968      input_10[0][0]                   \n",
      "__________________________________________________________________________________________________\n",
      "gru_11 (GRU)                    (None, 128)          835968      input_11[0][0]                   \n",
      "__________________________________________________________________________________________________\n",
      "gru_12 (GRU)                    (None, 128)          835968      input_12[0][0]                   \n",
      "__________________________________________________________________________________________________\n",
      "gru_7 (GRU)                     (None, 128)          54144       input_7[0][0]                    \n",
      "__________________________________________________________________________________________________\n",
      "concatenate_1 (Concatenate)     (None, 768)          0           gru_8[0][0]                      \n",
      "                                                                 gru_9[0][0]                      \n",
      "                                                                 gru_10[0][0]                     \n",
      "                                                                 gru_11[0][0]                     \n",
      "                                                                 gru_12[0][0]                     \n",
      "                                                                 gru_7[0][0]                      \n",
      "__________________________________________________________________________________________________\n",
      "repeat_vector_1 (RepeatVector)  (None, 5, 768)       0           concatenate_1[0][0]              \n",
      "__________________________________________________________________________________________________\n",
      "gru_13 (GRU)                    (None, 5, 128)       344448      repeat_vector_1[0][0]            \n",
      "__________________________________________________________________________________________________\n",
      "time_distributed_1 (TimeDistrib (None, 5, 3)         387         gru_13[0][0]                     \n",
      "__________________________________________________________________________________________________\n",
      "activation_1 (Activation)       (None, 5, 3)         0           time_distributed_1[0][0]         \n",
      "==================================================================================================\n",
      "Total params: 4,578,819\n",
      "Trainable params: 4,578,819\n",
      "Non-trainable params: 0\n",
      "__________________________________________________________________________________________________\n"
     ]
    }
   ],
   "source": [
    "from tensorflow.keras.models import load_model\n",
    "\n",
    "\n",
    "EPOCHS = 2000\n",
    "N_HIDDEN = 128\n",
    "OBSERVE_LENGTH = 10\n",
    "PREDICT_LENGTH = 5\n",
    "FEAT_DIM = 12\n",
    "LEARNING_RATE = 0.0001\n",
    "BATCH_SIZE = 64\n",
    "IMG_DIM = 2048\n",
    "\n",
    "MODEL_NAME = 'sslstm-image5_epoch_{}_hidden_{}_observe_{}_predict_{}'.format(EPOCHS, N_HIDDEN, OBSERVE_LENGTH, PREDICT_LENGTH)\n",
    "model_path = '/home/zg2309/model/{}.h5'.format(MODEL_NAME)\n",
    "print(model_path)\n",
    "# load model\n",
    "model = load_model(model_path)\n",
    "# summarize model.\n",
    "model.summary()"
   ]
  },
  {
   "cell_type": "code",
   "execution_count": 3,
   "metadata": {},
   "outputs": [],
   "source": [
    "# import matplotlib.image as mpimg\n",
    "# img = mpimg.imread('/home/zg2309/history/{}.png'.format(MODEL_NAME))\n",
    "# plt.imshow(img)\n",
    "# plt.show()"
   ]
  },
  {
   "cell_type": "code",
   "execution_count": 4,
   "metadata": {},
   "outputs": [],
   "source": [
    "def visualize_trajectory(prediction, gt, folder):\n",
    "    \n",
    "    FPS = 10\n",
    "    DT = 1.0 / FPS\n",
    "    times = [t * DT for t in range(0, len(gt))]\n",
    "    \n",
    "    gtx = gt[:,0]\n",
    "    predx = prediction[:,0]\n",
    "    fig1, ax1 = plt.subplots()\n",
    "    ax1.plot(times, gtx, label='gt')\n",
    "    \n",
    "    ax1.plot(times, predx, label=\"predict\")\n",
    "    \n",
    "    ax1.set_ylabel('acceleration x')\n",
    "    ax1.set_xlabel('time')\n",
    "    fig1.savefig(folder + 'acceleration_x.png')\n",
    "    \n",
    "    gty = gt[:,1]\n",
    "    predy = prediction[:,1]\n",
    "    fig2, ax2 = plt.subplots()\n",
    "    ax2.plot(times, gty, label='gt')\n",
    "    \n",
    "    ax2.plot(times, predy, label=\"predict\")\n",
    "    \n",
    "    ax2.set_ylabel('acceleration y')\n",
    "    ax2.set_xlabel('time')\n",
    "    fig2.savefig(folder + 'acceleration_y.png')\n",
    "    \n",
    "    plt.close(fig1)\n",
    "    plt.close(fig2)\n",
    "#     gtz = gt[:,2]\n",
    "#     predz = prediction[:,2]\n",
    "#     fig3, ax3 = plt.subplots()\n",
    "#     ax3.plot(times, gtz, label='gt')\n",
    "    \n",
    "#     ax3.plot(times, predz, label=\"predict\")\n",
    "    \n",
    "#     ax3.set_ylabel('acceleration z')\n",
    "#     ax3.set_xlabel('time')\n",
    "#     fig3.show()\n",
    "\n",
    "def MAE(predict, label):\n",
    "    result = np.abs(predict - label)\n",
    "    result = result.reshape((-1,3))\n",
    "    return np.mean(result, axis=0)\n",
    "    \n",
    "def MSE(predict, label):\n",
    "    result = (predict - label)**2\n",
    "    result = result.reshape((-1, 3))\n",
    "    return np.mean(result, axis=0)\n",
    "\n",
    "def predict(raw, tar_name, seg_name):\n",
    "    length, _ = raw.shape\n",
    "    prediction = np.zeros((length, 3))\n",
    "    prediction[:OBSERVE_LENGTH, :] = raw[:OBSERVE_LENGTH, -3:].copy()\n",
    "    acceleration = np.zeros((length, 3))\n",
    "    acceleration[:OBSERVE_LENGTH, :] = raw[:OBSERVE_LENGTH, -3:].copy()\n",
    "    \n",
    "    predict_start = OBSERVE_LENGTH\n",
    "    \n",
    "    while predict_start < length:\n",
    "        if predict_start + PREDICT_LENGTH > length:\n",
    "            predict_start = length - PREDICT_LENGTH\n",
    "        \n",
    "        \n",
    "        X_feat = np.zeros((1,OBSERVE_LENGTH,FEAT_DIM))\n",
    "        X_image_0 = np.zeros((1,OBSERVE_LENGTH,IMG_DIM))\n",
    "        X_image_1 = np.zeros((1,OBSERVE_LENGTH,IMG_DIM))\n",
    "        X_image_2 = np.zeros((1,OBSERVE_LENGTH,IMG_DIM))\n",
    "        X_image_3 = np.zeros((1,OBSERVE_LENGTH,IMG_DIM))\n",
    "        X_image_4 = np.zeros((1,OBSERVE_LENGTH,IMG_DIM))\n",
    "        #load feats\n",
    "        X_feat[0,:,:] = raw[predict_start - OBSERVE_LENGTH:predict_start, :-3]\n",
    "        \n",
    "        for i in range(OBSERVE_LENGTH):\n",
    "            img_path_0 = '/home/dataset/images/0/validation/' + tar_name + '/' + seg_name + '/'\n",
    "            X_image_0[0, i, :] = np.load(img_path_0 + '{}.npy'.format(predict_start - OBSERVE_LENGTH + i))\n",
    "            \n",
    "            img_path_1 = '/home/dataset/images/1/validation/' + tar_name + '/' + seg_name + '/'\n",
    "            X_image_1[0, i, :] = np.load(img_path_1 + '{}.npy'.format(predict_start - OBSERVE_LENGTH + i))\n",
    "            \n",
    "            img_path_2 = '/home/dataset/images/2/validation/' + tar_name + '/' + seg_name + '/'\n",
    "            X_image_2[0, i, :] = np.load(img_path_2 + '{}.npy'.format(predict_start - OBSERVE_LENGTH + i))\n",
    "            \n",
    "            img_path_3 = '/home/dataset/images/3/validation/' + tar_name + '/' + seg_name + '/'\n",
    "            X_image_3[0, i, :] = np.load(img_path_3 + '{}.npy'.format(predict_start - OBSERVE_LENGTH + i))\n",
    "            \n",
    "            img_path_4 = '/home/dataset/images/4/validation/' + tar_name + '/' + seg_name + '/'\n",
    "            X_image_4[0, i, :] = np.load(img_path_4 + '{}.npy'.format(predict_start - OBSERVE_LENGTH + i))\n",
    "        \n",
    "        predict_y = model.predict([\n",
    "            X_image_0,\n",
    "            X_image_1,\n",
    "            X_image_2,\n",
    "            X_image_3,\n",
    "            X_image_4,\n",
    "            X_feat])\n",
    "        prediction[predict_start:predict_start+PREDICT_LENGTH, :] = predict_y.squeeze().copy()\n",
    "        acceleration[predict_start:predict_start+PREDICT_LENGTH, :] = predict_y.squeeze().copy()\n",
    "        \n",
    "        predict_start = predict_start + PREDICT_LENGTH\n",
    "        \n",
    "    return prediction"
   ]
  },
  {
   "cell_type": "code",
   "execution_count": 5,
   "metadata": {},
   "outputs": [
    {
     "name": "stdout",
     "output_type": "stream",
     "text": [
      "test csvs num: 150\n"
     ]
    },
    {
     "data": {
      "application/vnd.jupyter.widget-view+json": {
       "model_id": "78b517a427f74e57bc4fa1268317cf34",
       "version_major": 2,
       "version_minor": 0
      },
      "text/plain": [
       "HBox(children=(IntProgress(value=0, max=150), HTML(value='')))"
      ]
     },
     "metadata": {},
     "output_type": "display_data"
    },
    {
     "name": "stdout",
     "output_type": "stream",
     "text": [
      "\n"
     ]
    }
   ],
   "source": [
    "BOX_PTS = 9\n",
    "TEST_FILES = '/home/dataset/team2/validation/validation*/*_smooth_{}.csv'.format(BOX_PTS)\n",
    "\n",
    "test_csvs = glob.glob(TEST_FILES)\n",
    "test_num = len(test_csvs)\n",
    "# print(test_csvs)\n",
    "print('test csvs num:', len(test_csvs))\n",
    "dim_input = 15\n",
    "\n",
    "total_mae = []\n",
    "total_mse = []\n",
    "\n",
    "predict_path = '/home/zg2309/prediction/{}/'.format(MODEL_NAME)\n",
    "if os.path.exists(predict_path):\n",
    "    shutil.rmtree(predict_path)\n",
    "os.mkdir(predict_path)\n",
    "\n",
    "for csv in tqdm(test_csvs):\n",
    "    raw = pd.read_csv(csv).values\n",
    "    gt = raw[:,-3:]\n",
    "    \n",
    "    tar_name = csv.split('/')[5]\n",
    "    tar_path = predict_path + tar_name + '/'\n",
    "\n",
    "    if not os.path.exists(tar_path):\n",
    "        os.mkdir(tar_path)\n",
    "        \n",
    "    seg_name = csv.split('/')[6][:-13]\n",
    "    \n",
    "    if tar_name in seg_name:\n",
    "        tar_len = len(tar_name)\n",
    "        seg_name = seg_name[tar_len+1:]\n",
    "    \n",
    "    prediction = predict(raw, tar_name, seg_name)\n",
    "    \n",
    "    folder = tar_path + seg_name + '/'\n",
    "    if os.path.exists(folder):\n",
    "        shutil.rmtree(folder)\n",
    "    os.mkdir(folder)\n",
    "    \n",
    "    np.save(folder + 'prediction.npy', prediction)\n",
    "    \n",
    "    \n",
    "    visualize_trajectory(prediction, gt, folder)\n",
    "    \n",
    "    \n",
    "    mae_x, mae_y, mae_z = MAE(prediction, gt)\n",
    "    mse_x, mse_y, mse_z = MSE(prediction, gt)\n",
    "\n",
    "    total_mae.append(np.array([mae_x,mae_y,mae_z]))\n",
    "    total_mse.append(np.array([mse_x,mse_y,mse_z]))"
   ]
  },
  {
   "cell_type": "code",
   "execution_count": 8,
   "metadata": {},
   "outputs": [
    {
     "name": "stdout",
     "output_type": "stream",
     "text": [
      "MAE X Y Z:  [0.14019829 0.14121963 0.04658272]\n",
      "MSE X Y Z:  [0.05114819 0.05898043 0.00650688]\n"
     ]
    }
   ],
   "source": [
    "# abandon z\n",
    "total_mae = np.array(total_mae)\n",
    "total_mse = np.array(total_mse)\n",
    "print('MAE X Y Z: ', np.mean(total_mae, axis=0))\n",
    "print('MSE X Y Z: ', np.mean(total_mse, axis=0))"
   ]
  },
  {
   "cell_type": "code",
   "execution_count": 9,
   "metadata": {},
   "outputs": [
    {
     "data": {
      "text/plain": [
       "(196, 3)"
      ]
     },
     "execution_count": 9,
     "metadata": {},
     "output_type": "execute_result"
    }
   ],
   "source": [
    "prediction.shape"
   ]
  },
  {
   "cell_type": "code",
   "execution_count": null,
   "metadata": {},
   "outputs": [],
   "source": []
  }
 ],
 "metadata": {
  "kernelspec": {
   "display_name": "Python 3",
   "language": "python",
   "name": "python3"
  },
  "language_info": {
   "codemirror_mode": {
    "name": "ipython",
    "version": 3
   },
   "file_extension": ".py",
   "mimetype": "text/x-python",
   "name": "python",
   "nbconvert_exporter": "python",
   "pygments_lexer": "ipython3",
   "version": "3.6.8"
  }
 },
 "nbformat": 4,
 "nbformat_minor": 2
}
