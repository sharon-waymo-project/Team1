{
 "cells": [
  {
   "cell_type": "code",
   "execution_count": 1,
   "metadata": {},
   "outputs": [],
   "source": [
    "import os \n",
    "import shutil\n",
    "import numpy as np\n",
    "import glob\n",
    "import cv2\n",
    "import tensorflow as tf\n",
    "\n",
    "from waymo_open_dataset import dataset_pb2 as open_dataset\n",
    "from tqdm.notebook import tqdm\n",
    "\n",
    "tf.enable_eager_execution()"
   ]
  },
  {
   "cell_type": "code",
   "execution_count": 2,
   "metadata": {},
   "outputs": [],
   "source": [
    "def build_model():\n",
    "    resnet = tf.keras.applications.resnet_v2.ResNet152V2(include_top=True, weights='imagenet', input_tensor=None, input_shape=None, pooling=None, classes=1000)\n",
    "    image_model = tf.keras.Model(inputs=resnet.input, outputs=resnet.layers[-2].output)\n",
    "    return image_model\n",
    "\n",
    "model = build_model()\n",
    "\n",
    "VIEW = 1"
   ]
  },
  {
   "cell_type": "code",
   "execution_count": null,
   "metadata": {
    "scrolled": false
   },
   "outputs": [],
   "source": [
    "train_path = '/home/dataset/training/*/*.tfrecord'\n",
    "\n",
    "train_prefix = '/home/dataset/images/{}/'.format(VIEW)\n",
    "\n",
    "if os.path.exists(train_prefix):\n",
    "    shutil.rmtree(train_prefix)\n",
    "os.mkdir(train_prefix)\n",
    "\n",
    "train_prefix += 'training/'\n",
    "os.mkdir(train_prefix)\n",
    "\n",
    "train_tfs = glob.glob(train_path)\n",
    "\n",
    "for file in tqdm(train_tfs):\n",
    "    dataset = tf.data.TFRecordDataset(file, compression_type='')\n",
    "    \n",
    "    tar_name = file.split('/')[4]\n",
    "    tar_path = train_prefix + tar_name + '/'\n",
    "    \n",
    "    if not os.path.exists(tar_path):\n",
    "        os.mkdir(tar_path)\n",
    "        \n",
    "    seg_name = file.split('/')[5][:-9]\n",
    "    seg_path = tar_path + seg_name + '/'\n",
    "    \n",
    "    if os.path.exists(seg_path):\n",
    "        shutil.rmtree(seg_path)\n",
    "    os.mkdir(seg_path)\n",
    "    \n",
    "    \n",
    "    for idx, data in enumerate(dataset):\n",
    "        frame = open_dataset.Frame()\n",
    "        frame.ParseFromString(bytearray(data.numpy()))\n",
    "        image = frame.images[VIEW]\n",
    "        img = tf.image.decode_jpeg(image.image).numpy()\n",
    "        resize_img = cv2.resize(img, (224,224))\n",
    "        img_input = np.array([resize_img])\n",
    "        img_embed = model.predict(img_input)\n",
    "        img_embed = img_embed.squeeze()\n",
    "\n",
    "        np.save(seg_path + '{}.npy'.format(idx), img_embed)\n",
    "\n",
    "\n"
   ]
  },
  {
   "cell_type": "code",
   "execution_count": null,
   "metadata": {},
   "outputs": [],
   "source": [
    "test_path = '/home/dataset/validation/*/*.tfrecord'\n",
    "test_prefix = '/home/dataset/images/{}/'.format(VIEW)\n",
    "\n",
    "if os.path.exists(test_prefix):\n",
    "    shutil.rmtree(test_prefix)\n",
    "os.mkdir(test_prefix)\n",
    "\n",
    "test_prefix += 'validation/'\n",
    "os.mkdir(test_prefix)\n",
    "\n",
    "\n",
    "test_tfs = glob.glob(test_path)\n",
    "\n",
    "for file in tqdm(test_tfs):\n",
    "    dataset = tf.data.TFRecordDataset(file, compression_type='')\n",
    "    \n",
    "    tar_name = file.split('/')[4]\n",
    "    tar_path = test_prefix + tar_name + '/'\n",
    "    \n",
    "    if not os.path.exists(tar_path):\n",
    "        os.mkdir(tar_path)\n",
    "        \n",
    "    seg_name = file.split('/')[5][:-9]\n",
    "    seg_path = tar_path + seg_name + '/'\n",
    "    \n",
    "    if os.path.exists(seg_path):\n",
    "        shutil.rmtree(seg_path)\n",
    "    os.mkdir(seg_path)\n",
    "    \n",
    "    \n",
    "    for idx, data in enumerate(dataset):\n",
    "        frame = open_dataset.Frame()\n",
    "        frame.ParseFromString(bytearray(data.numpy()))\n",
    "        image = frame.images[VIEW]\n",
    "        img = tf.image.decode_jpeg(image.image).numpy()\n",
    "        resize_img = cv2.resize(img, (224,224))\n",
    "        img_input = np.array([resize_img])\n",
    "        img_embed = model.predict(img_input)\n",
    "        img_embed = img_embed.squeeze()\n",
    "        np.save(seg_path + '{}.npy'.format(idx), img_embed)\n",
    "        "
   ]
  },
  {
   "cell_type": "code",
   "execution_count": null,
   "metadata": {},
   "outputs": [],
   "source": []
  }
 ],
 "metadata": {
  "kernelspec": {
   "display_name": "Python 3",
   "language": "python",
   "name": "python3"
  },
  "language_info": {
   "codemirror_mode": {
    "name": "ipython",
    "version": 3
   },
   "file_extension": ".py",
   "mimetype": "text/x-python",
   "name": "python",
   "nbconvert_exporter": "python",
   "pygments_lexer": "ipython3",
   "version": "3.6.8"
  }
 },
 "nbformat": 4,
 "nbformat_minor": 2
}
